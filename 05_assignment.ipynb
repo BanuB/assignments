{
  "nbformat": 4,
  "nbformat_minor": 0,
  "metadata": {
    "colab": {
      "name": "05_assignment.ipynb",
      "provenance": []
    },
    "kernelspec": {
      "name": "python3",
      "display_name": "Python 3"
    }
  },
  "cells": [
    {
      "cell_type": "markdown",
      "metadata": {
        "id": "rd2QZetSDszc",
        "colab_type": "text"
      },
      "source": [
        "# Assignment 5\n",
        "\n",
        "# Weeks 8 & 9 - Pandas\n",
        "In this homework assignment, you will explore and analyze a public dataset of your choosing. Since this assignment is “open-ended” in nature, you are free to expand upon the requirements below.  The preferred method for this analysis is in a .ipynb file.\n",
        "\n",
        "## Some data examples:\n",
        "•\thttps://www.data.gov/\n",
        "\n",
        "•\thttps://opendata.cityofnewyork.us/\n",
        "\n",
        "•\thttps://datasetsearch.research.google.com/\n",
        "\n",
        "•\thttps://archive.ics.uci.edu/ml/index.php\n",
        "\n",
        "## Resources:\n",
        "\n",
        "•\thttps://pandas.pydata.org/pandas-docs/stable/getting_started/10min.html \n",
        "\n",
        "•\thttps://pandas.pydata.org/pandas-docs/stable/user_guide/visualization.html\n",
        "\n",
        "\n"
      ]
    },
    {
      "cell_type": "markdown",
      "metadata": {
        "id": "3bp8cdDxDs2t",
        "colab_type": "text"
      },
      "source": [
        "______________\n",
        "# Data Exploration\n",
        "Import your dataset into your environment and explore your data.  You should include any summary statistics, means, medians, quartiles, or any other relevant information about the dataset.  \n",
        "\n"
      ]
    },
    {
      "cell_type": "code",
      "metadata": {
        "id": "1OJmbafkEhhq",
        "colab_type": "code",
        "colab": {}
      },
      "source": [
        ""
      ],
      "execution_count": 0,
      "outputs": []
    },
    {
      "cell_type": "markdown",
      "metadata": {
        "id": "kCSLIafaEGVK",
        "colab_type": "text"
      },
      "source": [
        "# Data Wrangling\n",
        "Create a subset of your original data and perform the following.  \n",
        "\n",
        "•\tUse .rename() on multiple columns. Take note of inplace=True.\n",
        "\n",
        "•\tLook at the structure of your data – are any variables improperly coded? Such as strings or characters? Convert to correct structure if needed.\n",
        "\n",
        "•\tCreate a new column based on existing columns or calculations. For example, you have two columns: city and state.  You create a new column called location that consists of city and state. \n",
        "\n",
        "•\tDrop column(s) from your dataset.\n",
        "\n",
        "•\tSort your data based on multiple variables. \n",
        "\n",
        "•\tFilter your data based on some condition. \n",
        "\n",
        "•\tApply multiple aggregation functions to your data (count, mean, min, max).  Use the .groupby() and .agg() or .apply() functions if needed.  "
      ]
    },
    {
      "cell_type": "code",
      "metadata": {
        "id": "4VWWvvynEiQT",
        "colab_type": "code",
        "colab": {}
      },
      "source": [
        ""
      ],
      "execution_count": 0,
      "outputs": []
    },
    {
      "cell_type": "markdown",
      "metadata": {
        "id": "YoK8G4yhD905",
        "colab_type": "text"
      },
      "source": [
        "## Data Visualization\n",
        "Use pandas to create a data visualization of your choosing on your dataset.\n",
        "\n"
      ]
    },
    {
      "cell_type": "code",
      "metadata": {
        "id": "M2jxVzKcEium",
        "colab_type": "code",
        "colab": {}
      },
      "source": [
        ""
      ],
      "execution_count": 0,
      "outputs": []
    },
    {
      "cell_type": "markdown",
      "metadata": {
        "id": "0qztpr9kD95U",
        "colab_type": "text"
      },
      "source": [
        "# Conclusions \n",
        "Provide some conclusions or insight gained from looking at your data.\n"
      ]
    },
    {
      "cell_type": "code",
      "metadata": {
        "id": "rIN3-vEOEjJW",
        "colab_type": "code",
        "colab": {}
      },
      "source": [
        ""
      ],
      "execution_count": 0,
      "outputs": []
    },
    {
      "cell_type": "code",
      "metadata": {
        "id": "juBuCiFVD9LD",
        "colab_type": "code",
        "colab": {}
      },
      "source": [
        ""
      ],
      "execution_count": 0,
      "outputs": []
    }
  ]
}