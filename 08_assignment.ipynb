{
  "nbformat": 4,
  "nbformat_minor": 0,
  "metadata": {
    "colab": {
      "name": "08_assignment.ipynb",
      "provenance": [],
      "collapsed_sections": [],
      "include_colab_link": true
    },
    "kernelspec": {
      "name": "python3",
      "display_name": "Python 3"
    }
  },
  "cells": [
    {
      "cell_type": "markdown",
      "metadata": {
        "id": "view-in-github",
        "colab_type": "text"
      },
      "source": [
        "<a href=\"https://colab.research.google.com/github/data602sps/assignments/blob/master/08_assignment.ipynb\" target=\"_parent\"><img src=\"https://colab.research.google.com/assets/colab-badge.svg\" alt=\"Open In Colab\"/></a>"
      ]
    },
    {
      "cell_type": "markdown",
      "metadata": {
        "id": "rd2QZetSDszc"
      },
      "source": [
        "# Assignment 8\n",
        "\n",
        "\n",
        "In this assignment, you will explore and analyze a public dataset of your choosing. Since this assignment is “open-ended” in nature, you are free to expand upon the requirements below. However, you must meet the minimum requirments as indicated in each section.\n",
        "\n",
        "The preferred method for this analysis is in a .ipynb file. Feel free to use whichever platform of your choosing.\n",
        "\n",
        "\n",
        "Your data should need some \"work\", or be considered \"dirty\". You must show your skills in data cleaning/wrangling.\n",
        "\n",
        "### Data Resources\n",
        "•\thttps://www.data.gov/\n",
        "\n",
        "•\thttps://opendata.cityofnewyork.us/\n",
        "\n",
        "•\thttps://datasetsearch.research.google.com/\n",
        "\n",
        "•\thttps://archive.ics.uci.edu/ml/index.php"
      ]
    },
    {
      "cell_type": "markdown",
      "metadata": {
        "id": "TOIQStz4f1Qz"
      },
      "source": [
        "## Headings or comments\n",
        "\n",
        "You are required to make use of comments, or headings for each section. You must explain what your code is doing, and the results of running your code. Act as if you were giving this assignment to your manager - you must include clear and descriptive information for each section."
      ]
    },
    {
      "cell_type": "markdown",
      "metadata": {
        "id": "dBHqjBtIf5dK"
      },
      "source": [
        "#Research Question\n",
        "\n",
        "In this section, please state the question you are trying to solve. As mentioned, this assignment is opened-ended, so you are free to choose a research question, and corrosponding data sources, of your choosing."
      ]
    },
    {
      "cell_type": "markdown",
      "metadata": {
        "id": "aADXXY4mf9eb"
      },
      "source": [
        ""
      ]
    },
    {
      "cell_type": "markdown",
      "metadata": {
        "id": "bpRrVSKhZqgR"
      },
      "source": [
        "# Database Connection\n",
        "\n",
        "\n",
        "Import the data you've selected into a SQL database of your choosing.  Connect your database to Python.\n",
        "\n",
        "Resources:\n",
        "\n",
        "*   https://dev.mysql.com/doc/workbench/en/wb-admin-export-import-table.html \n",
        "*   https://medium.com/@tattwei46/how-to-use-python-with-mysql-79304bee8753\n",
        "*   https://downloads.mysql.com/docs/connector-python-en.pdf\n",
        "*   https://datatofish.com/how-to-connect-python-to-sql-server-using-pyodbc/\n",
        "\n"
      ]
    },
    {
      "cell_type": "code",
      "metadata": {
        "id": "alZGLv02ZpuB"
      },
      "source": [
        "|"
      ],
      "execution_count": null,
      "outputs": []
    },
    {
      "cell_type": "markdown",
      "metadata": {
        "id": "3bp8cdDxDs2t"
      },
      "source": [
        "______________\n",
        "# Data Exploration  (EDA)\n",
        "mport your dataset into your .ipynb, create dataframes, and explore your data.\n",
        "\n",
        "Include:\n",
        "\n",
        "* Summary statistics means, medians, quartiles\n",
        "* Missing value information\n",
        "* Any other relevant information about the dataset.\n",
        "\n"
      ]
    },
    {
      "cell_type": "code",
      "metadata": {
        "id": "4NGCpMJIPQn8"
      },
      "source": [
        ""
      ],
      "execution_count": null,
      "outputs": []
    },
    {
      "cell_type": "markdown",
      "metadata": {
        "id": "kCSLIafaEGVK"
      },
      "source": [
        "# Data Wrangling/Cleaning\n",
        "Please perform transformations/data manipulations.  \n",
        "\n",
        "Resources:\n",
        "\n",
        "\n",
        "*   https://pandas.pydata.org/docs/user_guide/index.html\n",
        "\n"
      ]
    },
    {
      "cell_type": "code",
      "metadata": {
        "id": "M2jxVzKcEium"
      },
      "source": [
        ""
      ],
      "execution_count": null,
      "outputs": []
    },
    {
      "cell_type": "markdown",
      "metadata": {
        "id": "b8W4N3FNcZAC"
      },
      "source": [
        "# Data Visualizations\n",
        "\n",
        "Include supporting data visualizations here.  You may use any visualization library of your choice.  **You must explain what each visualization is showing.**  Include, at the minimum, three different plots\n",
        "\n",
        "Resources:\n",
        "\n",
        "*   https://plotly.com/python/plotly-express/\n",
        "*   https://seaborn.pydata.org/introduction.html\n",
        "*   https://matplotlib.org/\n",
        "\n"
      ]
    },
    {
      "cell_type": "code",
      "metadata": {
        "id": "rOX37TBVc34S"
      },
      "source": [
        ""
      ],
      "execution_count": null,
      "outputs": []
    },
    {
      "cell_type": "markdown",
      "metadata": {
        "id": "_VtO3jlFbwju"
      },
      "source": [
        "# Machine Learning\n",
        "\n",
        "Perform some basic machine learning on your manipulated data.  You may use any ML algorithm you think would work on your data.\n",
        "\n",
        "Resources:\n",
        "\n",
        "\n",
        "*   https://www.datacamp.com/community/tutorials/machine-learning-python \n",
        "*   https://scikit-learn.org/stable/\n",
        "\n"
      ]
    },
    {
      "cell_type": "code",
      "metadata": {
        "id": "-k5VXppMc40k"
      },
      "source": [
        ""
      ],
      "execution_count": null,
      "outputs": []
    },
    {
      "cell_type": "markdown",
      "metadata": {
        "id": "0qztpr9kD95U"
      },
      "source": [
        "# Conclusions \n",
        "Provide some conclusions or insight gained from looking at your data."
      ]
    },
    {
      "cell_type": "code",
      "metadata": {
        "id": "kwVJIIGnolsC"
      },
      "source": [
        ""
      ],
      "execution_count": null,
      "outputs": []
    }
  ]
}