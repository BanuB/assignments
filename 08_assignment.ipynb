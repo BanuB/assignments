{
  "nbformat": 4,
  "nbformat_minor": 0,
  "metadata": {
    "colab": {
      "name": "08_assignment.ipynb",
      "provenance": [],
      "collapsed_sections": [],
      "include_colab_link": true
    },
    "kernelspec": {
      "name": "python3",
      "display_name": "Python 3"
    }
  },
  "cells": [
    {
      "cell_type": "markdown",
      "metadata": {
        "id": "view-in-github",
        "colab_type": "text"
      },
      "source": [
        "<a href=\"https://colab.research.google.com/github/data602sps/assignments/blob/master/08_assignment.ipynb\" target=\"_parent\"><img src=\"https://colab.research.google.com/assets/colab-badge.svg\" alt=\"Open In Colab\"/></a>"
      ]
    },
    {
      "cell_type": "markdown",
      "metadata": {
        "id": "rd2QZetSDszc",
        "colab_type": "text"
      },
      "source": [
        "# Assignment 8\n",
        "\n",
        "\n",
        "In this project, you will explore and analyze a public dataset of your choosing. Since this assignment is “open-ended” in nature, you are free to expand upon the requirements below. You may use a .ipynb file instead of .py.\n",
        "\n",
        "You must add descriptions to each of the sections.  ***You must explain what your code is doing*** (either in comments or via the supported HTML inside of a .ipynb file).\n",
        "\n",
        "### Data Resources\n",
        "•\thttps://www.data.gov/\n",
        "\n",
        "•\thttps://opendata.cityofnewyork.us/\n",
        "\n",
        "•\thttps://datasetsearch.research.google.com/\n",
        "\n",
        "•\thttps://archive.ics.uci.edu/ml/index.php"
      ]
    },
    {
      "cell_type": "markdown",
      "metadata": {
        "id": "bpRrVSKhZqgR",
        "colab_type": "text"
      },
      "source": [
        "# Database Connection\n",
        "\n",
        "**(Optional Extra Credit)**\n",
        "\n",
        "Import the data you've selected into a SQL database of your choosing.  Connect your database to Python.\n",
        "\n",
        "Resources:\n",
        "\n",
        "*   https://dev.mysql.com/doc/workbench/en/wb-admin-export-import-table.html \n",
        "*   https://medium.com/@tattwei46/how-to-use-python-with-mysql-79304bee8753\n",
        "*   https://downloads.mysql.com/docs/connector-python-en.pdf\n",
        "*   https://datatofish.com/how-to-connect-python-to-sql-server-using-pyodbc/\n",
        "\n"
      ]
    },
    {
      "cell_type": "code",
      "metadata": {
        "id": "alZGLv02ZpuB",
        "colab_type": "code",
        "colab": {}
      },
      "source": [
        "|"
      ],
      "execution_count": 0,
      "outputs": []
    },
    {
      "cell_type": "markdown",
      "metadata": {
        "id": "3bp8cdDxDs2t",
        "colab_type": "text"
      },
      "source": [
        "______________\n",
        "# Data Exploration  (EDA)\n",
        "Import your dataset into your **python** environment and explore your data.  You should include any summary statistics, means, medians, quartiles, or any other relevant information about the dataset.\n",
        "\n"
      ]
    },
    {
      "cell_type": "code",
      "metadata": {
        "id": "4NGCpMJIPQn8",
        "colab_type": "code",
        "colab": {}
      },
      "source": [
        ""
      ],
      "execution_count": 0,
      "outputs": []
    },
    {
      "cell_type": "markdown",
      "metadata": {
        "id": "kCSLIafaEGVK",
        "colab_type": "text"
      },
      "source": [
        "# Data Wrangling/Cleaning\n",
        "Please perform some basic transformations/data manipulations.  \n",
        "\n",
        "Resources:\n",
        "\n",
        "\n",
        "*   https://pandas.pydata.org/docs/user_guide/index.html\n",
        "\n"
      ]
    },
    {
      "cell_type": "code",
      "metadata": {
        "id": "M2jxVzKcEium",
        "colab_type": "code",
        "colab": {}
      },
      "source": [
        ""
      ],
      "execution_count": 0,
      "outputs": []
    },
    {
      "cell_type": "markdown",
      "metadata": {
        "id": "b8W4N3FNcZAC",
        "colab_type": "text"
      },
      "source": [
        "# Data Visualizations\n",
        "\n",
        "Include supporting data visualizations here.  You may use any visualization library of your choice.  **You must explain what each visualization is showing.**\n",
        "\n",
        "Resources:\n",
        "\n",
        "*   https://plotly.com/python/plotly-express/\n",
        "*   https://seaborn.pydata.org/introduction.html\n",
        "*   https://matplotlib.org/\n",
        "\n"
      ]
    },
    {
      "cell_type": "code",
      "metadata": {
        "id": "rOX37TBVc34S",
        "colab_type": "code",
        "colab": {}
      },
      "source": [
        ""
      ],
      "execution_count": 0,
      "outputs": []
    },
    {
      "cell_type": "markdown",
      "metadata": {
        "id": "_VtO3jlFbwju",
        "colab_type": "text"
      },
      "source": [
        "# Machine Learning\n",
        "\n",
        "**(Optional Extra Credit)**\n",
        "\n",
        "Perform some machine learning on your manipulated data.  You may use any ML algorithm you think would work on your data.\n",
        "\n",
        "Resources:\n",
        "\n",
        "\n",
        "*   https://www.datacamp.com/community/tutorials/machine-learning-python \n",
        "*   https://scikit-learn.org/stable/\n",
        "\n"
      ]
    },
    {
      "cell_type": "code",
      "metadata": {
        "id": "-k5VXppMc40k",
        "colab_type": "code",
        "colab": {}
      },
      "source": [
        ""
      ],
      "execution_count": 0,
      "outputs": []
    },
    {
      "cell_type": "markdown",
      "metadata": {
        "id": "0qztpr9kD95U",
        "colab_type": "text"
      },
      "source": [
        "# Conclusions \n",
        "Provide some conclusions or insight gained from looking at your data."
      ]
    },
    {
      "cell_type": "code",
      "metadata": {
        "id": "kwVJIIGnolsC",
        "colab_type": "code",
        "colab": {}
      },
      "source": [
        ""
      ],
      "execution_count": 0,
      "outputs": []
    }
  ]
}